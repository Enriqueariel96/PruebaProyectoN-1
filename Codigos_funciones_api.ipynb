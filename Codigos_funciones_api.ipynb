{
 "cells": [
  {
   "cell_type": "code",
   "execution_count": 7,
   "metadata": {},
   "outputs": [],
   "source": [
    "#Desarrollamos las funciones que nos piden\n",
    "import pandas as pd\n",
    "steam_games = pd.read_parquet(r'C:\\\\Users\\\\licle\\\\Desktop\\\\Prep Henry\\\\Proyecto Integrados n1\\\\PI MLOps - STEAM\\\\Datasets\\\\steam_games.parquet')\n",
    "items_def = pd.read_parquet(r'C:\\\\Users\\\\licle\\\\Desktop\\\\Prep Henry\\\\Proyecto Integrados n1\\\\PI MLOps - STEAM\\\\Datasets\\\\users_items.parquet')\n",
    "reviews_def = pd.read_parquet(r'C:\\\\Users\\\\licle\\\\Desktop\\\\Prep Henry\\\\Proyecto Integrados n1\\\\PI MLOps - STEAM\\\\Datasets\\\\user_reviews.parquet')\n"
   ]
  },
  {
   "cell_type": "code",
   "execution_count": 15,
   "metadata": {},
   "outputs": [],
   "source": [
    "def PlayTimeGenre(genero : str):\n",
    "    # Fusionar los DataFrames en función de la columna 'item_id'\n",
    "    merged_data = pd.merge(steam_games, items_def, left_on='id', right_on='item_id', how='inner')\n",
    "\n",
    "    # Desanidar las listas de géneros\n",
    "    genres = merged_data.explode('genres') \n",
    "\n",
    "    # Reemplazar \"&amp;\" por \"&\" en los géneros\n",
    "    genres['genres'] = genres['genres'].str.replace('&amp;', 'and')\n",
    "\n",
    "    # Normalizar los géneros en minúsculas y sin caracteres especiales\n",
    "    genres['genres'] = genres['genres'].str.lower().str.replace(r'[^a-zA-Z0-9\\s]', '').str.strip()\n",
    "\n",
    "    # Obtener la lista de géneros únicos\n",
    "    unique_genres = genres['genres'].unique()\n",
    "\n",
    "    #consulta\n",
    "    user_genre = genero\n",
    "\n",
    "    # Normalizar el género ingresado por el usuario\n",
    "    user_genre = user_genre.lower().strip()\n",
    "\n",
    "    # Verificar si el género ingresado por el usuario está en la lista de géneros\n",
    "    if user_genre.lower() not in unique_genres:\n",
    "        print(\"Error: El género no está en la lista\")\n",
    "    else:\n",
    "        # Filtrar los datos según el género ingresado por el usuario\n",
    "        genre_data = genres[genres['genres'] == user_genre]\n",
    "\n",
    "    # Agrupar por año y sumar la cantidad de minutos jugados para el género ingresado por el usuario\n",
    "    minutes_played_by_year = genre_data.groupby(genre_data['release_date'].dt.year)['playtime_forever'].sum()\n",
    "\n",
    "    # Encontrar el género más jugado según el año más jugado para cada género\n",
    "    most_played_year = int(minutes_played_by_year.idxmax())\n",
    "    # Mostrar el año con el género más jugado para el género ingresado por el usuario\n",
    "    return print(\"Año de lanzamiento con más horas jugadas para el género\", user_genre, \":\", most_played_year)"
   ]
  },
  {
   "cell_type": "code",
   "execution_count": 39,
   "metadata": {},
   "outputs": [],
   "source": [
    "def UserForGenre(genero : str):\n",
    "    #Fusionar los DataFrames en función de la columna 'item_id'\n",
    "    merged_data = pd.merge(steam_games, items_def, left_on='id', right_on='item_id', how='inner')\n",
    "\n",
    "    # Desanidar las listas de géneros\n",
    "    genres = merged_data.explode('genres')\n",
    "\n",
    "    # Reemplazar \"&amp;\" por \"&\" en los géneros\n",
    "    genres['genres'] = genres['genres'].str.replace('&amp;', '&')\n",
    "\n",
    "    # Normalizar los géneros en minúsculas y sin caracteres especiales\n",
    "    genres['genres'] = genres['genres'].str.lower().str.replace(r'[^a-zA-Z0-9\\s]', '').str.strip()\n",
    "    \n",
    "    # Obtener la lista de géneros únicos\n",
    "    unique_genres = genres['genres'].unique()\n",
    "    \n",
    "    # Consulta\n",
    "    user_genre = genero\n",
    "\n",
    "    # Normalizar el género ingresado por el usuario\n",
    "    user_genre = user_genre.lower().strip()\n",
    "    # Verificar si el género ingresado por el usuario está en la lista de géneros\n",
    "    if user_genre.lower() not in unique_genres:\n",
    "        print(\"Error: El género no está en la lista\")\n",
    "    else:\n",
    "        # Filtrar los datos según el género ingresado por el usuario\n",
    "        genre_data = genres[genres['genres'] == user_genre]\n",
    "        # Encontrar el usuario con más minutos jugados para el género especificado\n",
    "        most_played_user = genre_data.groupby('user_id')['playtime_forever'].sum().idxmax()\n",
    "        # Filtrar los datos para el usuario con más minutos jugados\n",
    "        most_played_user_data = genre_data[genre_data['user_id'] == most_played_user]\n",
    "        # Agrupar los datos por año y sumar los minutos jugados para cada año\n",
    "        minutes_played_by_year = most_played_user_data.groupby(most_played_user_data['release_date'].dt.year)['playtime_forever'].sum()\n",
    "        hours_by_year_list = [{\"Año\": int(year), \"Horas\": hours/60} for year, hours in minutes_played_by_year.items()]\n",
    "\n",
    "    # Mostrar la suma de minutos jugados por año para el usuario con más minutos jugados en el género especificado\n",
    "    \n",
    "    return print(\"Usuario con más horas jugadas para Género\", user_genre.capitalize(), \":\", most_played_user, ' Horas jugadas : ', hours_by_year_list)"
   ]
  },
  {
   "cell_type": "code",
   "execution_count": 40,
   "metadata": {},
   "outputs": [
    {
     "name": "stdout",
     "output_type": "stream",
     "text": [
      "Usuario con más horas jugadas para Género Action : REBAS_AS_F-T  Horas jugadas :  [{'Año': 1998, 'Horas': 0.03333333333333333}, {'Año': 1999, 'Horas': 3.75}, {'Año': 2001, 'Horas': 0.18333333333333332}, {'Año': 2002, 'Horas': 0.016666666666666666}, {'Año': 2003, 'Horas': 31.05}, {'Año': 2004, 'Horas': 35.25}, {'Año': 2005, 'Horas': 54.88333333333333}, {'Año': 2006, 'Horas': 2.3}, {'Año': 2007, 'Horas': 11.4}, {'Año': 2008, 'Horas': 63.18333333333333}, {'Año': 2009, 'Horas': 443.9166666666667}, {'Año': 2010, 'Horas': 235.88333333333333}, {'Año': 2011, 'Horas': 1082.5166666666667}, {'Año': 2012, 'Horas': 1350.8}, {'Año': 2013, 'Horas': 2411.8}, {'Año': 2014, 'Horas': 3574.366666666667}, {'Año': 2015, 'Horas': 3225.516666666667}, {'Año': 2016, 'Horas': 3338.733333333333}, {'Año': 2017, 'Horas': 61.93333333333333}]\n"
     ]
    }
   ],
   "source": [
    "UserForGenre('action')"
   ]
  },
  {
   "cell_type": "code",
   "execution_count": 70,
   "metadata": {},
   "outputs": [],
   "source": [
    "def UsersRecommend(año: int):\n",
    "    reviews_def['item_id'] = reviews_def['item_id'].astype(int)\n",
    "    steam_games['id'] = steam_games['id'].astype(int)\n",
    "    \n",
    "    # Combinar los DataFrames en función del campo 'item_id'\n",
    "    merged_data = pd.merge(reviews_def, steam_games, left_on='item_id', right_on='id', how='inner')\n",
    "\n",
    "    # Filtrar los juegos del año dado\n",
    "    year_games = merged_data[merged_data['release_date'].dt.year == año]\n",
    "\n",
    "    # Filtrar los juegos recomendados con comentarios positivos o neutros\n",
    "    recommended_games = year_games[(year_games['recommend'] == True) & (year_games['sentiment_analysis'] >= 1)]\n",
    "\n",
    "    # Contar el número de recomendaciones para cada juego\n",
    "    recommend_count = recommended_games['app_name'].value_counts()\n",
    "\n",
    "    # Obtener el top 3 de juegos más recomendados\n",
    "    recomendados = recommend_count.head(3)\n",
    "\n",
    "    # Formatear el resultado según el formato deseado\n",
    "    respuesta3 = [{\"Puesto \" + str(i+1): juego} for i, juego in enumerate(recomendados.index)]\n",
    "    \n",
    "    return respuesta3"
   ]
  },
  {
   "cell_type": "code",
   "execution_count": 71,
   "metadata": {},
   "outputs": [
    {
     "data": {
      "text/plain": [
       "[{'Puesto 1': 'grand theft auto v'},\n",
       " {'Puesto 2': 'rocket league®'},\n",
       " {'Puesto 3': 'undertale'}]"
      ]
     },
     "execution_count": 71,
     "metadata": {},
     "output_type": "execute_result"
    }
   ],
   "source": [
    "UsersRecommend(2015)"
   ]
  },
  {
   "cell_type": "code",
   "execution_count": 68,
   "metadata": {},
   "outputs": [],
   "source": [
    "def UsersNotRecommend(año : int):\n",
    "    reviews_def['item_id'] = reviews_def['item_id'].astype(int)\n",
    "    steam_games['id'] = steam_games['id'].astype(int)\n",
    "    \n",
    "    # Combinar los DataFrames en función del campo 'item_id'\n",
    "    merged_data = pd.merge(reviews_def, steam_games, left_on='item_id', right_on='id', how='inner')\n",
    "\n",
    "    # Filtrar los juegos del año dado\n",
    "    year_games = merged_data[merged_data['release_date'].dt.year == año]\n",
    "\n",
    "    # Filtrar los juegos menos recomendados con comentarios negativos\n",
    "    least_recommended_games = year_games[(year_games['recommend'] == False) & (year_games['sentiment_analysis'] == 0)]\n",
    "\n",
    "    # Contar el número de veces que cada juego es menos recomendado\n",
    "    least_recommend_count = least_recommended_games['app_name'].value_counts()\n",
    "\n",
    "    # Obtener el top 3 de juegos menos recomendados\n",
    "    menos_recomendados = least_recommend_count.head(3)\n",
    "\n",
    "    # Damos formato a la respuesta\n",
    "    respuesta4 = [{\"Puesto \" + str(i+1): juego} for i, juego in enumerate(menos_recomendados.index)]\n",
    "    \n",
    "    return respuesta4"
   ]
  },
  {
   "cell_type": "code",
   "execution_count": 69,
   "metadata": {},
   "outputs": [
    {
     "data": {
      "text/plain": [
       "[{'Puesto 1': 'call of duty®: black ops iii'},\n",
       " {'Puesto 2': 'grand theft auto v'},\n",
       " {'Puesto 3': 'batman™: arkham knight'}]"
      ]
     },
     "execution_count": 69,
     "metadata": {},
     "output_type": "execute_result"
    }
   ],
   "source": [
    "UsersNotRecommend(2015)"
   ]
  },
  {
   "cell_type": "code",
   "execution_count": 62,
   "metadata": {},
   "outputs": [],
   "source": [
    "def sentiment_analysis(año: int):\n",
    "    # Combinamos los dataframes que necesitamos en función del campo 'item_id'\n",
    "    merged_data = pd.merge(reviews_def, steam_games, left_on='item_id', right_on='id', how='inner')\n",
    "\n",
    "    # Filtrar las reseñas por el año de lanzamiento\n",
    "    filtro_resenas = merged_data[merged_data['release_date'].dt.year == año]\n",
    "\n",
    "    # Contar la cantidad de registros de reseñas categorizados con cada análisis de sentimiento\n",
    "    sentiment_count = filtro_resenas['sentiment_analysis'].value_counts()\n",
    "\n",
    "    # Damos formato a la respuesta\n",
    "    respuesta5 = {\n",
    "        \"Negative\": sentiment_count.get(0, 0),\n",
    "        \"Neutral\": sentiment_count.get(1, 0),\n",
    "        \"Positive\": sentiment_count.get(2, 0)\n",
    "    }\n",
    "\n",
    "    return respuesta5"
   ]
  },
  {
   "cell_type": "code",
   "execution_count": 63,
   "metadata": {},
   "outputs": [
    {
     "data": {
      "text/plain": [
       "{'Negative': 1537, 'Neutral': 1409, 'Positive': 3614}"
      ]
     },
     "execution_count": 63,
     "metadata": {},
     "output_type": "execute_result"
    }
   ],
   "source": [
    "sentiment_analysis(2015)"
   ]
  },
  {
   "cell_type": "code",
   "execution_count": 72,
   "metadata": {},
   "outputs": [
    {
     "name": "stdout",
     "output_type": "stream",
     "text": [
      "annotated-types==0.6.0\n",
      "anyio==4.3.0\n",
      "asttokens==2.4.1\n",
      "attrs==23.2.0\n",
      "certifi==2023.7.22\n",
      "click==8.1.7\n",
      "colorama==0.4.6\n",
      "comm==0.1.4\n",
      "contourpy==1.1.1\n",
      "cramjam==2.8.3\n",
      "cycler==0.12.1\n",
      "debugpy==1.8.0\n",
      "decorator==5.1.1\n",
      "distlib==0.3.7\n",
      "dnspython==2.6.1\n",
      "email_validator==2.1.1\n",
      "executing==2.0.1\n",
      "fastapi==0.111.0\n",
      "fastapi-cli==0.0.3\n",
      "fastparquet==2024.2.0\n",
      "filelock==3.12.4\n",
      "fonttools==4.43.1\n",
      "fsspec==2024.3.1\n",
      "h11==0.14.0\n",
      "httpcore==1.0.5\n",
      "httptools==0.6.1\n",
      "httpx==0.27.0\n",
      "idna==3.7\n",
      "ipykernel==6.26.0\n",
      "ipython==8.17.2\n",
      "itsdangerous==2.2.0\n",
      "jedi==0.19.1\n",
      "Jinja2==3.1.4\n",
      "joblib==1.4.0\n",
      "jsonschema==4.22.0\n",
      "jsonschema-specifications==2023.12.1\n",
      "jupyter_client==8.5.0\n",
      "jupyter_core==5.5.0\n",
      "kiwisolver==1.4.5\n",
      "markdown-it-py==3.0.0\n",
      "MarkupSafe==2.1.5\n",
      "matplotlib==3.8.1\n",
      "matplotlib-inline==0.1.6\n",
      "mdurl==0.1.2\n",
      "nest-asyncio==1.5.8\n",
      "nltk==3.8.1\n",
      "numpy==1.26.1\n",
      "orjson==3.10.3\n",
      "packaging==23.2\n",
      "pandas==2.2.2\n",
      "parso==0.8.3\n",
      "patsy==0.5.6\n",
      "Pillow==10.1.0\n",
      "pipenv==2023.10.3\n",
      "platformdirs==3.11.0\n",
      "prompt-toolkit==3.0.39\n",
      "psutil==5.9.6\n",
      "pure-eval==0.2.2\n",
      "pyarrow==16.0.0\n",
      "pydantic==2.7.1\n",
      "pydantic-extra-types==2.7.0\n",
      "pydantic-settings==2.2.1\n",
      "pydantic_core==2.18.2\n",
      "Pygments==2.16.1\n",
      "pyparsing==3.1.1\n",
      "python-dateutil==2.8.2\n",
      "python-dotenv==1.0.1\n",
      "python-multipart==0.0.9\n",
      "pytz==2023.3.post1\n",
      "pywin32==306\n",
      "PyYAML==6.0.1\n",
      "pyzmq==25.1.1\n",
      "referencing==0.35.0\n",
      "regex==2024.4.28\n",
      "rich==13.7.1\n",
      "rpds-py==0.18.0\n",
      "scikit-learn==1.4.2\n",
      "scipy==1.11.4\n",
      "seaborn==0.13.1\n",
      "setuptools==68.2.2\n",
      "shellingham==1.5.4\n",
      "six==1.16.0\n",
      "sniffio==1.3.1\n",
      "stack-data==0.6.3\n",
      "starlette==0.37.2\n",
      "statsmodels==0.14.2\n",
      "textblob==0.18.0.post0\n",
      "threadpoolctl==3.4.0\n",
      "tornado==6.3.3\n",
      "tqdm==4.66.4\n",
      "traitlets==5.13.0\n",
      "typer==0.12.3\n",
      "typing_extensions==4.11.0\n",
      "tzdata==2023.3\n",
      "ujson==5.9.0\n",
      "uvicorn==0.29.0\n",
      "virtualenv==20.24.5\n",
      "watchfiles==0.21.0\n",
      "wcwidth==0.2.9\n",
      "websockets==12.0\n",
      "Note: you may need to restart the kernel to use updated packages.\n"
     ]
    }
   ],
   "source": [
    "pip freeze"
   ]
  }
 ],
 "metadata": {
  "kernelspec": {
   "display_name": "Python 3",
   "language": "python",
   "name": "python3"
  },
  "language_info": {
   "codemirror_mode": {
    "name": "ipython",
    "version": 3
   },
   "file_extension": ".py",
   "mimetype": "text/x-python",
   "name": "python",
   "nbconvert_exporter": "python",
   "pygments_lexer": "ipython3",
   "version": "3.12.0"
  }
 },
 "nbformat": 4,
 "nbformat_minor": 2
}
