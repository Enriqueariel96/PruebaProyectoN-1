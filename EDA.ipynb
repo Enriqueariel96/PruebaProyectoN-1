{
 "cells": [
  {
   "cell_type": "code",
   "execution_count": null,
   "metadata": {},
   "outputs": [],
   "source": [
    "import gzip\n",
    "import ast\n",
    "import pandas as pd\n",
    "\n",
    "datos = []\n",
    "with gzip.open('users_items.json.gz', 'rb') as f:\n",
    "    for line in f:\n",
    "        data.append(ast.literal_eval(line.decode('utf-8')))\n",
    "users_items = pd.DataFrame(datos)\n",
    "f.close()\n",
    "\n",
    "stream_games = pd.read_json('C:\\\\Users\\\\licle\\\\Desktop\\\\Prep Henry\\\\Proyecto Integrados n1\\\\PI MLOps - STEAM\\\\output_steam_games.json', lines=True)\n",
    "\n",
    "reviews = []\n",
    "with open('C:\\\\Users\\\\licle\\\\Desktop\\\\Prep Henry\\\\Proyecto Integrados n1\\\\PI MLOps - STEAM\\\\australian_user_reviews.json', 'rb') as f:\n",
    "    for line in f:\n",
    "        data.append(ast.literal_eval(line.decode('utf-8')))\n",
    "user_reviews = pd.DataFrame(reviews)\n",
    "f.close()"
   ]
  },
  {
   "cell_type": "code",
   "execution_count": null,
   "metadata": {},
   "outputs": [],
   "source": [
    "#I) Items:"
   ]
  },
  {
   "cell_type": "code",
   "execution_count": null,
   "metadata": {},
   "outputs": [],
   "source": [
    "#revisamos el contenido de cada uno de los dataframe que obtuvimos, empezamos con Items:\n",
    "users_items.head()"
   ]
  },
  {
   "cell_type": "code",
   "execution_count": null,
   "metadata": {},
   "outputs": [],
   "source": [
    "#nos hacemos preguntas sobre la información que contiene:\n",
    "#¿Cuantos items contiene?\n",
    "users_items.items_count.sum()"
   ]
  },
  {
   "cell_type": "code",
   "execution_count": null,
   "metadata": {},
   "outputs": [],
   "source": [
    "#¿Se repiten los usuarios?\n",
    "users_items.user_id.value_counts()"
   ]
  },
  {
   "cell_type": "code",
   "execution_count": null,
   "metadata": {},
   "outputs": [],
   "source": [
    "#¿Hay datos nulos?\n",
    "users_items.isnull().sum()"
   ]
  },
  {
   "cell_type": "code",
   "execution_count": null,
   "metadata": {},
   "outputs": [],
   "source": [
    "#Un resumen de los datos:\n",
    "users_items.info()"
   ]
  },
  {
   "cell_type": "code",
   "execution_count": null,
   "metadata": {},
   "outputs": [],
   "source": [
    "#II) Reviews"
   ]
  },
  {
   "cell_type": "code",
   "execution_count": null,
   "metadata": {},
   "outputs": [],
   "source": [
    "#Revisamos el contenido de Reviews:\n",
    "user_reviews.head()"
   ]
  },
  {
   "cell_type": "code",
   "execution_count": null,
   "metadata": {},
   "outputs": [],
   "source": [
    "#¿Se repiten los usuarios?\n",
    "user_reviews.user_id.value_counts()"
   ]
  },
  {
   "cell_type": "code",
   "execution_count": null,
   "metadata": {},
   "outputs": [],
   "source": [
    "#¿Cuantos items contiene?\n",
    "user_reviews.items_count.sum()"
   ]
  },
  {
   "cell_type": "code",
   "execution_count": null,
   "metadata": {},
   "outputs": [],
   "source": [
    "#¿Hay datos nulos?\n",
    "user_reviews.isnull().sum()"
   ]
  },
  {
   "cell_type": "code",
   "execution_count": null,
   "metadata": {},
   "outputs": [],
   "source": [
    "#Un resumen de los datos:\n",
    "user_reviews.info()"
   ]
  },
  {
   "cell_type": "code",
   "execution_count": null,
   "metadata": {},
   "outputs": [],
   "source": [
    "#III) Stream Games:"
   ]
  },
  {
   "cell_type": "code",
   "execution_count": null,
   "metadata": {},
   "outputs": [],
   "source": [
    "#Mismo proceso anterior:\n",
    "stream_games.head()"
   ]
  },
  {
   "cell_type": "code",
   "execution_count": null,
   "metadata": {},
   "outputs": [],
   "source": [
    "#Notamos que hay muchas filas vacías por lo tanto hacemos una copia del archivo original: \n",
    "copia_stream_games = stream_games.copy()\n",
    "#Luego eliminamos aquellas filas que estén integramente vacías dado a que no tiene absolutamente nada de información\n",
    "copia_stream_games.dropna(inplace = True , how='all')"
   ]
  },
  {
   "cell_type": "code",
   "execution_count": null,
   "metadata": {},
   "outputs": [],
   "source": [
    "#¿Se repiten el id de los juegos?\n",
    "copia_stream_games.id.value_counts()"
   ]
  },
  {
   "cell_type": "code",
   "execution_count": null,
   "metadata": {},
   "outputs": [],
   "source": [
    "#¿Hay datos nulos?\n",
    "copia_stream_games.isnull().sum()"
   ]
  },
  {
   "cell_type": "code",
   "execution_count": null,
   "metadata": {},
   "outputs": [],
   "source": [
    "#Un resumen de los datos:\n",
    "copia_stream_games.info()"
   ]
  },
  {
   "cell_type": "code",
   "execution_count": null,
   "metadata": {},
   "outputs": [],
   "source": [
    "#Encontramos datos anidados en las columnas,\n",
    "#resolvemos en la exploración de datos revisar con que datos anidados contamos, \n",
    "#obteniendo así un panorama para la siguiente etapa.\n",
    "#El proceso es el mismo con los pasos anterior\n",
    "#Empezamos con Reviews: "
   ]
  },
  {
   "cell_type": "code",
   "execution_count": null,
   "metadata": {},
   "outputs": [],
   "source": [
    "reviews_desanidados = pd.json_normalize(user_reviews['reviews'].explode(), sep='_')\n",
    "\n",
    "reviews_desanidados.head()"
   ]
  },
  {
   "cell_type": "code",
   "execution_count": null,
   "metadata": {},
   "outputs": [],
   "source": [
    "reviews_desanidados.item_id.value_counts()"
   ]
  },
  {
   "cell_type": "code",
   "execution_count": null,
   "metadata": {},
   "outputs": [],
   "source": [
    "reviews_desanidados.isnull().sum()"
   ]
  },
  {
   "cell_type": "code",
   "execution_count": null,
   "metadata": {},
   "outputs": [],
   "source": [
    "reviews_desanidados.info()"
   ]
  },
  {
   "cell_type": "code",
   "execution_count": null,
   "metadata": {},
   "outputs": [],
   "source": [
    "#Continuamos con Items:\n",
    "items_desanidados = pd.json_normalize(user_reviews['items'].explode(), sep='_')\n",
    "\n",
    "items_desanidados.head()"
   ]
  },
  {
   "cell_type": "code",
   "execution_count": null,
   "metadata": {},
   "outputs": [],
   "source": [
    "items_desanidados.item_name.value_counts()"
   ]
  },
  {
   "cell_type": "code",
   "execution_count": null,
   "metadata": {},
   "outputs": [],
   "source": [
    "items_desanidados.isnull().sum()"
   ]
  },
  {
   "cell_type": "code",
   "execution_count": null,
   "metadata": {},
   "outputs": [],
   "source": [
    "items_desanidados.info()"
   ]
  },
  {
   "cell_type": "code",
   "execution_count": null,
   "metadata": {},
   "outputs": [],
   "source": [
    "#CONCLUSIONES:\n",
    "'''Stream_games: notamos que contaba con muchas filas vacías y concluímos que para analizar los datos eliminamos \n",
    "dichas filas. Encontramos algunas columnas que para el objeto de nuestro trabajo debemos quitas, en la siguiente\n",
    "etapa nos enfrentraremos a la toma de decisiones que datos quitar y cuales dejar dependiendo de nuestros objetivos.\n",
    "Users_items.json.gz: Notamos que cuenta con una extensión palpable, en la siguiente etapa tendremos que\n",
    "manejar los datos con cuidado dado a que son muchos, aquí tendremos un archivo un poco más pesado y tendremos que \n",
    "manejar algún formato que pueda generar datasets livianos. Tenemos un grueso de datos anidados en la columna 'Items' \n",
    "que vamos a desanidar en la siguiente etapa.\n",
    "Australian_user_reviews: En la próxima etapa deberemos trabajar con los datos que se encuentran anidados\n",
    "a la columna reviews para la resolución de los objetivos'''"
   ]
  }
 ],
 "metadata": {
  "language_info": {
   "name": "python"
  }
 },
 "nbformat": 4,
 "nbformat_minor": 2
}
